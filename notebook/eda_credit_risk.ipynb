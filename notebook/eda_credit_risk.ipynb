{
 "cells": [
  {
   "cell_type": "code",
   "execution_count": 2,
   "id": "b7e6042c",
   "metadata": {},
   "outputs": [],
   "source": [
    "import numpy as np\n",
    "import pandas as pd\n",
    "import seaborn as sns\n",
    "import matplotlib.pyplot as plt\n",
    "%matplotlib inline\n",
    "import warnings\n",
    "warnings.filterwarnings('ignore')"
   ]
  },
  {
   "cell_type": "code",
   "execution_count": 4,
   "id": "0e6765f7",
   "metadata": {},
   "outputs": [
    {
     "data": {
      "application/vnd.microsoft.datawrangler.viewer.v0+json": {
       "columns": [
        {
         "name": "index",
         "rawType": "int64",
         "type": "integer"
        },
        {
         "name": "id",
         "rawType": "object",
         "type": "unknown"
        },
        {
         "name": "member_id",
         "rawType": "float64",
         "type": "float"
        },
        {
         "name": "loan_amnt",
         "rawType": "float64",
         "type": "float"
        },
        {
         "name": "funded_amnt",
         "rawType": "float64",
         "type": "float"
        },
        {
         "name": "funded_amnt_inv",
         "rawType": "float64",
         "type": "float"
        },
        {
         "name": "term",
         "rawType": "object",
         "type": "string"
        },
        {
         "name": "int_rate",
         "rawType": "float64",
         "type": "float"
        },
        {
         "name": "installment",
         "rawType": "float64",
         "type": "float"
        },
        {
         "name": "grade",
         "rawType": "object",
         "type": "string"
        },
        {
         "name": "sub_grade",
         "rawType": "object",
         "type": "string"
        },
        {
         "name": "emp_title",
         "rawType": "object",
         "type": "string"
        },
        {
         "name": "emp_length",
         "rawType": "object",
         "type": "string"
        },
        {
         "name": "home_ownership",
         "rawType": "object",
         "type": "string"
        },
        {
         "name": "annual_inc",
         "rawType": "float64",
         "type": "float"
        },
        {
         "name": "verification_status",
         "rawType": "object",
         "type": "string"
        },
        {
         "name": "issue_d",
         "rawType": "object",
         "type": "string"
        },
        {
         "name": "loan_status",
         "rawType": "object",
         "type": "string"
        },
        {
         "name": "pymnt_plan",
         "rawType": "object",
         "type": "string"
        },
        {
         "name": "url",
         "rawType": "object",
         "type": "string"
        },
        {
         "name": "desc",
         "rawType": "object",
         "type": "unknown"
        },
        {
         "name": "purpose",
         "rawType": "object",
         "type": "string"
        },
        {
         "name": "title",
         "rawType": "object",
         "type": "unknown"
        },
        {
         "name": "zip_code",
         "rawType": "object",
         "type": "string"
        },
        {
         "name": "addr_state",
         "rawType": "object",
         "type": "string"
        },
        {
         "name": "dti",
         "rawType": "float64",
         "type": "float"
        },
        {
         "name": "delinq_2yrs",
         "rawType": "float64",
         "type": "float"
        },
        {
         "name": "earliest_cr_line",
         "rawType": "object",
         "type": "string"
        },
        {
         "name": "fico_range_low",
         "rawType": "float64",
         "type": "float"
        },
        {
         "name": "fico_range_high",
         "rawType": "float64",
         "type": "float"
        },
        {
         "name": "inq_last_6mths",
         "rawType": "float64",
         "type": "float"
        },
        {
         "name": "mths_since_last_delinq",
         "rawType": "float64",
         "type": "float"
        },
        {
         "name": "mths_since_last_record",
         "rawType": "float64",
         "type": "float"
        },
        {
         "name": "open_acc",
         "rawType": "float64",
         "type": "float"
        },
        {
         "name": "pub_rec",
         "rawType": "float64",
         "type": "float"
        },
        {
         "name": "revol_bal",
         "rawType": "float64",
         "type": "float"
        },
        {
         "name": "revol_util",
         "rawType": "float64",
         "type": "float"
        },
        {
         "name": "total_acc",
         "rawType": "float64",
         "type": "float"
        },
        {
         "name": "initial_list_status",
         "rawType": "object",
         "type": "string"
        },
        {
         "name": "out_prncp",
         "rawType": "float64",
         "type": "float"
        },
        {
         "name": "out_prncp_inv",
         "rawType": "float64",
         "type": "float"
        },
        {
         "name": "total_pymnt",
         "rawType": "float64",
         "type": "float"
        },
        {
         "name": "total_pymnt_inv",
         "rawType": "float64",
         "type": "float"
        },
        {
         "name": "total_rec_prncp",
         "rawType": "float64",
         "type": "float"
        },
        {
         "name": "total_rec_int",
         "rawType": "float64",
         "type": "float"
        },
        {
         "name": "total_rec_late_fee",
         "rawType": "float64",
         "type": "float"
        },
        {
         "name": "recoveries",
         "rawType": "float64",
         "type": "float"
        },
        {
         "name": "collection_recovery_fee",
         "rawType": "float64",
         "type": "float"
        },
        {
         "name": "last_pymnt_d",
         "rawType": "object",
         "type": "string"
        },
        {
         "name": "last_pymnt_amnt",
         "rawType": "float64",
         "type": "float"
        },
        {
         "name": "next_pymnt_d",
         "rawType": "object",
         "type": "unknown"
        },
        {
         "name": "last_credit_pull_d",
         "rawType": "object",
         "type": "string"
        },
        {
         "name": "last_fico_range_high",
         "rawType": "float64",
         "type": "float"
        },
        {
         "name": "last_fico_range_low",
         "rawType": "float64",
         "type": "float"
        },
        {
         "name": "collections_12_mths_ex_med",
         "rawType": "float64",
         "type": "float"
        },
        {
         "name": "mths_since_last_major_derog",
         "rawType": "float64",
         "type": "float"
        },
        {
         "name": "policy_code",
         "rawType": "float64",
         "type": "float"
        },
        {
         "name": "application_type",
         "rawType": "object",
         "type": "string"
        },
        {
         "name": "annual_inc_joint",
         "rawType": "float64",
         "type": "float"
        },
        {
         "name": "dti_joint",
         "rawType": "float64",
         "type": "float"
        },
        {
         "name": "verification_status_joint",
         "rawType": "object",
         "type": "unknown"
        },
        {
         "name": "acc_now_delinq",
         "rawType": "float64",
         "type": "float"
        },
        {
         "name": "tot_coll_amt",
         "rawType": "float64",
         "type": "float"
        },
        {
         "name": "tot_cur_bal",
         "rawType": "float64",
         "type": "float"
        },
        {
         "name": "open_acc_6m",
         "rawType": "float64",
         "type": "float"
        },
        {
         "name": "open_act_il",
         "rawType": "float64",
         "type": "float"
        },
        {
         "name": "open_il_12m",
         "rawType": "float64",
         "type": "float"
        },
        {
         "name": "open_il_24m",
         "rawType": "float64",
         "type": "float"
        },
        {
         "name": "mths_since_rcnt_il",
         "rawType": "float64",
         "type": "float"
        },
        {
         "name": "total_bal_il",
         "rawType": "float64",
         "type": "float"
        },
        {
         "name": "il_util",
         "rawType": "float64",
         "type": "float"
        },
        {
         "name": "open_rv_12m",
         "rawType": "float64",
         "type": "float"
        },
        {
         "name": "open_rv_24m",
         "rawType": "float64",
         "type": "float"
        },
        {
         "name": "max_bal_bc",
         "rawType": "float64",
         "type": "float"
        },
        {
         "name": "all_util",
         "rawType": "float64",
         "type": "float"
        },
        {
         "name": "total_rev_hi_lim",
         "rawType": "float64",
         "type": "float"
        },
        {
         "name": "inq_fi",
         "rawType": "float64",
         "type": "float"
        },
        {
         "name": "total_cu_tl",
         "rawType": "float64",
         "type": "float"
        },
        {
         "name": "inq_last_12m",
         "rawType": "float64",
         "type": "float"
        },
        {
         "name": "acc_open_past_24mths",
         "rawType": "float64",
         "type": "float"
        },
        {
         "name": "avg_cur_bal",
         "rawType": "float64",
         "type": "float"
        },
        {
         "name": "bc_open_to_buy",
         "rawType": "float64",
         "type": "float"
        },
        {
         "name": "bc_util",
         "rawType": "float64",
         "type": "float"
        },
        {
         "name": "chargeoff_within_12_mths",
         "rawType": "float64",
         "type": "float"
        },
        {
         "name": "delinq_amnt",
         "rawType": "float64",
         "type": "float"
        },
        {
         "name": "mo_sin_old_il_acct",
         "rawType": "float64",
         "type": "float"
        },
        {
         "name": "mo_sin_old_rev_tl_op",
         "rawType": "float64",
         "type": "float"
        },
        {
         "name": "mo_sin_rcnt_rev_tl_op",
         "rawType": "float64",
         "type": "float"
        },
        {
         "name": "mo_sin_rcnt_tl",
         "rawType": "float64",
         "type": "float"
        },
        {
         "name": "mort_acc",
         "rawType": "float64",
         "type": "float"
        },
        {
         "name": "mths_since_recent_bc",
         "rawType": "float64",
         "type": "float"
        },
        {
         "name": "mths_since_recent_bc_dlq",
         "rawType": "float64",
         "type": "float"
        },
        {
         "name": "mths_since_recent_inq",
         "rawType": "float64",
         "type": "float"
        },
        {
         "name": "mths_since_recent_revol_delinq",
         "rawType": "float64",
         "type": "float"
        },
        {
         "name": "num_accts_ever_120_pd",
         "rawType": "float64",
         "type": "float"
        },
        {
         "name": "num_actv_bc_tl",
         "rawType": "float64",
         "type": "float"
        },
        {
         "name": "num_actv_rev_tl",
         "rawType": "float64",
         "type": "float"
        },
        {
         "name": "num_bc_sats",
         "rawType": "float64",
         "type": "float"
        },
        {
         "name": "num_bc_tl",
         "rawType": "float64",
         "type": "float"
        },
        {
         "name": "num_il_tl",
         "rawType": "float64",
         "type": "float"
        },
        {
         "name": "num_op_rev_tl",
         "rawType": "float64",
         "type": "float"
        },
        {
         "name": "num_rev_accts",
         "rawType": "float64",
         "type": "float"
        },
        {
         "name": "num_rev_tl_bal_gt_0",
         "rawType": "float64",
         "type": "float"
        },
        {
         "name": "num_sats",
         "rawType": "float64",
         "type": "float"
        },
        {
         "name": "num_tl_120dpd_2m",
         "rawType": "float64",
         "type": "float"
        },
        {
         "name": "num_tl_30dpd",
         "rawType": "float64",
         "type": "float"
        },
        {
         "name": "num_tl_90g_dpd_24m",
         "rawType": "float64",
         "type": "float"
        },
        {
         "name": "num_tl_op_past_12m",
         "rawType": "float64",
         "type": "float"
        },
        {
         "name": "pct_tl_nvr_dlq",
         "rawType": "float64",
         "type": "float"
        },
        {
         "name": "percent_bc_gt_75",
         "rawType": "float64",
         "type": "float"
        },
        {
         "name": "pub_rec_bankruptcies",
         "rawType": "float64",
         "type": "float"
        },
        {
         "name": "tax_liens",
         "rawType": "float64",
         "type": "float"
        },
        {
         "name": "tot_hi_cred_lim",
         "rawType": "float64",
         "type": "float"
        },
        {
         "name": "total_bal_ex_mort",
         "rawType": "float64",
         "type": "float"
        },
        {
         "name": "total_bc_limit",
         "rawType": "float64",
         "type": "float"
        },
        {
         "name": "total_il_high_credit_limit",
         "rawType": "float64",
         "type": "float"
        },
        {
         "name": "revol_bal_joint",
         "rawType": "float64",
         "type": "float"
        },
        {
         "name": "sec_app_fico_range_low",
         "rawType": "float64",
         "type": "float"
        },
        {
         "name": "sec_app_fico_range_high",
         "rawType": "float64",
         "type": "float"
        },
        {
         "name": "sec_app_earliest_cr_line",
         "rawType": "object",
         "type": "unknown"
        },
        {
         "name": "sec_app_inq_last_6mths",
         "rawType": "float64",
         "type": "float"
        },
        {
         "name": "sec_app_mort_acc",
         "rawType": "float64",
         "type": "float"
        },
        {
         "name": "sec_app_open_acc",
         "rawType": "float64",
         "type": "float"
        },
        {
         "name": "sec_app_revol_util",
         "rawType": "float64",
         "type": "float"
        },
        {
         "name": "sec_app_open_act_il",
         "rawType": "float64",
         "type": "float"
        },
        {
         "name": "sec_app_num_rev_accts",
         "rawType": "float64",
         "type": "float"
        },
        {
         "name": "sec_app_chargeoff_within_12_mths",
         "rawType": "float64",
         "type": "float"
        },
        {
         "name": "sec_app_collections_12_mths_ex_med",
         "rawType": "float64",
         "type": "float"
        },
        {
         "name": "sec_app_mths_since_last_major_derog",
         "rawType": "float64",
         "type": "float"
        },
        {
         "name": "hardship_flag",
         "rawType": "object",
         "type": "string"
        },
        {
         "name": "hardship_type",
         "rawType": "object",
         "type": "unknown"
        },
        {
         "name": "hardship_reason",
         "rawType": "object",
         "type": "unknown"
        },
        {
         "name": "hardship_status",
         "rawType": "object",
         "type": "unknown"
        },
        {
         "name": "deferral_term",
         "rawType": "float64",
         "type": "float"
        },
        {
         "name": "hardship_amount",
         "rawType": "float64",
         "type": "float"
        },
        {
         "name": "hardship_start_date",
         "rawType": "object",
         "type": "unknown"
        },
        {
         "name": "hardship_end_date",
         "rawType": "object",
         "type": "unknown"
        },
        {
         "name": "payment_plan_start_date",
         "rawType": "object",
         "type": "unknown"
        },
        {
         "name": "hardship_length",
         "rawType": "float64",
         "type": "float"
        },
        {
         "name": "hardship_dpd",
         "rawType": "float64",
         "type": "float"
        },
        {
         "name": "hardship_loan_status",
         "rawType": "object",
         "type": "unknown"
        },
        {
         "name": "orig_projected_additional_accrued_interest",
         "rawType": "float64",
         "type": "float"
        },
        {
         "name": "hardship_payoff_balance_amount",
         "rawType": "float64",
         "type": "float"
        },
        {
         "name": "hardship_last_payment_amount",
         "rawType": "float64",
         "type": "float"
        },
        {
         "name": "disbursement_method",
         "rawType": "object",
         "type": "string"
        },
        {
         "name": "debt_settlement_flag",
         "rawType": "object",
         "type": "string"
        },
        {
         "name": "debt_settlement_flag_date",
         "rawType": "object",
         "type": "unknown"
        },
        {
         "name": "settlement_status",
         "rawType": "object",
         "type": "unknown"
        },
        {
         "name": "settlement_date",
         "rawType": "object",
         "type": "unknown"
        },
        {
         "name": "settlement_amount",
         "rawType": "float64",
         "type": "float"
        },
        {
         "name": "settlement_percentage",
         "rawType": "float64",
         "type": "float"
        },
        {
         "name": "settlement_term",
         "rawType": "float64",
         "type": "float"
        }
       ],
       "conversionMethod": "pd.DataFrame",
       "ref": "3d82b8e5-db9c-49b9-8df5-f4d8d4712c79",
       "rows": [
        [
         "0",
         "68407277",
         null,
         "3600.0",
         "3600.0",
         "3600.0",
         " 36 months",
         "13.99",
         "123.03",
         "C",
         "C4",
         "leadman",
         "10+ years",
         "MORTGAGE",
         "55000.0",
         "Not Verified",
         "Dec-2015",
         "Fully Paid",
         "n",
         "https://lendingclub.com/browse/loanDetail.action?loan_id=68407277",
         null,
         "debt_consolidation",
         "Debt consolidation",
         "190xx",
         "PA",
         "5.91",
         "0.0",
         "Aug-2003",
         "675.0",
         "679.0",
         "1.0",
         "30.0",
         null,
         "7.0",
         "0.0",
         "2765.0",
         "29.7",
         "13.0",
         "w",
         "0.0",
         "0.0",
         "4421.723916800001",
         "4421.72",
         "3600.0",
         "821.72",
         "0.0",
         "0.0",
         "0.0",
         "Jan-2019",
         "122.67",
         null,
         "Mar-2019",
         "564.0",
         "560.0",
         "0.0",
         "30.0",
         "1.0",
         "Individual",
         null,
         null,
         null,
         "0.0",
         "722.0",
         "144904.0",
         "2.0",
         "2.0",
         "0.0",
         "1.0",
         "21.0",
         "4981.0",
         "36.0",
         "3.0",
         "3.0",
         "722.0",
         "34.0",
         "9300.0",
         "3.0",
         "1.0",
         "4.0",
         "4.0",
         "20701.0",
         "1506.0",
         "37.2",
         "0.0",
         "0.0",
         "148.0",
         "128.0",
         "3.0",
         "3.0",
         "1.0",
         "4.0",
         "69.0",
         "4.0",
         "69.0",
         "2.0",
         "2.0",
         "4.0",
         "2.0",
         "5.0",
         "3.0",
         "4.0",
         "9.0",
         "4.0",
         "7.0",
         "0.0",
         "0.0",
         "0.0",
         "3.0",
         "76.9",
         "0.0",
         "0.0",
         "0.0",
         "178050.0",
         "7746.0",
         "2400.0",
         "13734.0",
         null,
         null,
         null,
         null,
         null,
         null,
         null,
         null,
         null,
         null,
         null,
         null,
         null,
         "N",
         null,
         null,
         null,
         null,
         null,
         null,
         null,
         null,
         null,
         null,
         null,
         null,
         null,
         null,
         "Cash",
         "N",
         null,
         null,
         null,
         null,
         null,
         null
        ],
        [
         "1",
         "68355089",
         null,
         "24700.0",
         "24700.0",
         "24700.0",
         " 36 months",
         "11.99",
         "820.28",
         "C",
         "C1",
         "Engineer",
         "10+ years",
         "MORTGAGE",
         "65000.0",
         "Not Verified",
         "Dec-2015",
         "Fully Paid",
         "n",
         "https://lendingclub.com/browse/loanDetail.action?loan_id=68355089",
         null,
         "small_business",
         "Business",
         "577xx",
         "SD",
         "16.06",
         "1.0",
         "Dec-1999",
         "715.0",
         "719.0",
         "4.0",
         "6.0",
         null,
         "22.0",
         "0.0",
         "21470.0",
         "19.2",
         "38.0",
         "w",
         "0.0",
         "0.0",
         "25679.66",
         "25679.66",
         "24700.0",
         "979.66",
         "0.0",
         "0.0",
         "0.0",
         "Jun-2016",
         "926.35",
         null,
         "Mar-2019",
         "699.0",
         "695.0",
         "0.0",
         null,
         "1.0",
         "Individual",
         null,
         null,
         null,
         "0.0",
         "0.0",
         "204396.0",
         "1.0",
         "1.0",
         "0.0",
         "1.0",
         "19.0",
         "18005.0",
         "73.0",
         "2.0",
         "3.0",
         "6472.0",
         "29.0",
         "111800.0",
         "0.0",
         "0.0",
         "6.0",
         "4.0",
         "9733.0",
         "57830.0",
         "27.1",
         "0.0",
         "0.0",
         "113.0",
         "192.0",
         "2.0",
         "2.0",
         "4.0",
         "2.0",
         null,
         "0.0",
         "6.0",
         "0.0",
         "5.0",
         "5.0",
         "13.0",
         "17.0",
         "6.0",
         "20.0",
         "27.0",
         "5.0",
         "22.0",
         "0.0",
         "0.0",
         "0.0",
         "2.0",
         "97.4",
         "7.7",
         "0.0",
         "0.0",
         "314017.0",
         "39475.0",
         "79300.0",
         "24667.0",
         null,
         null,
         null,
         null,
         null,
         null,
         null,
         null,
         null,
         null,
         null,
         null,
         null,
         "N",
         null,
         null,
         null,
         null,
         null,
         null,
         null,
         null,
         null,
         null,
         null,
         null,
         null,
         null,
         "Cash",
         "N",
         null,
         null,
         null,
         null,
         null,
         null
        ],
        [
         "2",
         "68341763",
         null,
         "20000.0",
         "20000.0",
         "20000.0",
         " 60 months",
         "10.78",
         "432.66",
         "B",
         "B4",
         "truck driver",
         "10+ years",
         "MORTGAGE",
         "63000.0",
         "Not Verified",
         "Dec-2015",
         "Fully Paid",
         "n",
         "https://lendingclub.com/browse/loanDetail.action?loan_id=68341763",
         null,
         "home_improvement",
         null,
         "605xx",
         "IL",
         "10.78",
         "0.0",
         "Aug-2000",
         "695.0",
         "699.0",
         "0.0",
         null,
         null,
         "6.0",
         "0.0",
         "7869.0",
         "56.2",
         "18.0",
         "w",
         "0.0",
         "0.0",
         "22705.9242938784",
         "22705.92",
         "20000.0",
         "2705.92",
         "0.0",
         "0.0",
         "0.0",
         "Jun-2017",
         "15813.3",
         null,
         "Mar-2019",
         "704.0",
         "700.0",
         "0.0",
         null,
         "1.0",
         "Joint App",
         "71000.0",
         "13.85",
         "Not Verified",
         "0.0",
         "0.0",
         "189699.0",
         "0.0",
         "1.0",
         "0.0",
         "4.0",
         "19.0",
         "10827.0",
         "73.0",
         "0.0",
         "2.0",
         "2081.0",
         "65.0",
         "14000.0",
         "2.0",
         "5.0",
         "1.0",
         "6.0",
         "31617.0",
         "2737.0",
         "55.9",
         "0.0",
         "0.0",
         "125.0",
         "184.0",
         "14.0",
         "14.0",
         "5.0",
         "101.0",
         null,
         "10.0",
         null,
         "0.0",
         "2.0",
         "3.0",
         "2.0",
         "4.0",
         "6.0",
         "4.0",
         "7.0",
         "3.0",
         "6.0",
         "0.0",
         "0.0",
         "0.0",
         "0.0",
         "100.0",
         "50.0",
         "0.0",
         "0.0",
         "218418.0",
         "18696.0",
         "6200.0",
         "14877.0",
         null,
         null,
         null,
         null,
         null,
         null,
         null,
         null,
         null,
         null,
         null,
         null,
         null,
         "N",
         null,
         null,
         null,
         null,
         null,
         null,
         null,
         null,
         null,
         null,
         null,
         null,
         null,
         null,
         "Cash",
         "N",
         null,
         null,
         null,
         null,
         null,
         null
        ],
        [
         "3",
         "66310712",
         null,
         "35000.0",
         "35000.0",
         "35000.0",
         " 60 months",
         "14.85",
         "829.9",
         "C",
         "C5",
         "Information Systems Officer",
         "10+ years",
         "MORTGAGE",
         "110000.0",
         "Source Verified",
         "Dec-2015",
         "Current",
         "n",
         "https://lendingclub.com/browse/loanDetail.action?loan_id=66310712",
         null,
         "debt_consolidation",
         "Debt consolidation",
         "076xx",
         "NJ",
         "17.06",
         "0.0",
         "Sep-2008",
         "785.0",
         "789.0",
         "0.0",
         null,
         null,
         "13.0",
         "0.0",
         "7802.0",
         "11.6",
         "17.0",
         "w",
         "15897.65",
         "15897.65",
         "31464.01",
         "31464.01",
         "19102.35",
         "12361.66",
         "0.0",
         "0.0",
         "0.0",
         "Feb-2019",
         "829.9",
         "Apr-2019",
         "Mar-2019",
         "679.0",
         "675.0",
         "0.0",
         null,
         "1.0",
         "Individual",
         null,
         null,
         null,
         "0.0",
         "0.0",
         "301500.0",
         "1.0",
         "1.0",
         "0.0",
         "1.0",
         "23.0",
         "12609.0",
         "70.0",
         "1.0",
         "1.0",
         "6987.0",
         "45.0",
         "67300.0",
         "0.0",
         "1.0",
         "0.0",
         "2.0",
         "23192.0",
         "54962.0",
         "12.1",
         "0.0",
         "0.0",
         "36.0",
         "87.0",
         "2.0",
         "2.0",
         "1.0",
         "2.0",
         null,
         null,
         null,
         "0.0",
         "4.0",
         "5.0",
         "8.0",
         "10.0",
         "2.0",
         "10.0",
         "13.0",
         "5.0",
         "13.0",
         "0.0",
         "0.0",
         "0.0",
         "1.0",
         "100.0",
         "0.0",
         "0.0",
         "0.0",
         "381215.0",
         "52226.0",
         "62500.0",
         "18000.0",
         null,
         null,
         null,
         null,
         null,
         null,
         null,
         null,
         null,
         null,
         null,
         null,
         null,
         "N",
         null,
         null,
         null,
         null,
         null,
         null,
         null,
         null,
         null,
         null,
         null,
         null,
         null,
         null,
         "Cash",
         "N",
         null,
         null,
         null,
         null,
         null,
         null
        ],
        [
         "4",
         "68476807",
         null,
         "10400.0",
         "10400.0",
         "10400.0",
         " 60 months",
         "22.45",
         "289.91",
         "F",
         "F1",
         "Contract Specialist",
         "3 years",
         "MORTGAGE",
         "104433.0",
         "Source Verified",
         "Dec-2015",
         "Fully Paid",
         "n",
         "https://lendingclub.com/browse/loanDetail.action?loan_id=68476807",
         null,
         "major_purchase",
         "Major purchase",
         "174xx",
         "PA",
         "25.37",
         "1.0",
         "Jun-1998",
         "695.0",
         "699.0",
         "3.0",
         "12.0",
         null,
         "12.0",
         "0.0",
         "21929.0",
         "64.5",
         "35.0",
         "w",
         "0.0",
         "0.0",
         "11740.5",
         "11740.5",
         "10400.0",
         "1340.5",
         "0.0",
         "0.0",
         "0.0",
         "Jul-2016",
         "10128.96",
         null,
         "Mar-2018",
         "704.0",
         "700.0",
         "0.0",
         null,
         "1.0",
         "Individual",
         null,
         null,
         null,
         "0.0",
         "0.0",
         "331730.0",
         "1.0",
         "3.0",
         "0.0",
         "3.0",
         "14.0",
         "73839.0",
         "84.0",
         "4.0",
         "7.0",
         "9702.0",
         "78.0",
         "34000.0",
         "2.0",
         "1.0",
         "3.0",
         "10.0",
         "27644.0",
         "4567.0",
         "77.5",
         "0.0",
         "0.0",
         "128.0",
         "210.0",
         "4.0",
         "4.0",
         "6.0",
         "4.0",
         "12.0",
         "1.0",
         "12.0",
         "0.0",
         "4.0",
         "6.0",
         "5.0",
         "9.0",
         "10.0",
         "7.0",
         "19.0",
         "6.0",
         "12.0",
         "0.0",
         "0.0",
         "0.0",
         "4.0",
         "96.6",
         "60.0",
         "0.0",
         "0.0",
         "439570.0",
         "95768.0",
         "20300.0",
         "88097.0",
         null,
         null,
         null,
         null,
         null,
         null,
         null,
         null,
         null,
         null,
         null,
         null,
         null,
         "N",
         null,
         null,
         null,
         null,
         null,
         null,
         null,
         null,
         null,
         null,
         null,
         null,
         null,
         null,
         "Cash",
         "N",
         null,
         null,
         null,
         null,
         null,
         null
        ]
       ],
       "shape": {
        "columns": 151,
        "rows": 5
       }
      },
      "text/html": [
       "<div>\n",
       "<style scoped>\n",
       "    .dataframe tbody tr th:only-of-type {\n",
       "        vertical-align: middle;\n",
       "    }\n",
       "\n",
       "    .dataframe tbody tr th {\n",
       "        vertical-align: top;\n",
       "    }\n",
       "\n",
       "    .dataframe thead th {\n",
       "        text-align: right;\n",
       "    }\n",
       "</style>\n",
       "<table border=\"1\" class=\"dataframe\">\n",
       "  <thead>\n",
       "    <tr style=\"text-align: right;\">\n",
       "      <th></th>\n",
       "      <th>id</th>\n",
       "      <th>member_id</th>\n",
       "      <th>loan_amnt</th>\n",
       "      <th>funded_amnt</th>\n",
       "      <th>funded_amnt_inv</th>\n",
       "      <th>term</th>\n",
       "      <th>int_rate</th>\n",
       "      <th>installment</th>\n",
       "      <th>grade</th>\n",
       "      <th>sub_grade</th>\n",
       "      <th>...</th>\n",
       "      <th>hardship_payoff_balance_amount</th>\n",
       "      <th>hardship_last_payment_amount</th>\n",
       "      <th>disbursement_method</th>\n",
       "      <th>debt_settlement_flag</th>\n",
       "      <th>debt_settlement_flag_date</th>\n",
       "      <th>settlement_status</th>\n",
       "      <th>settlement_date</th>\n",
       "      <th>settlement_amount</th>\n",
       "      <th>settlement_percentage</th>\n",
       "      <th>settlement_term</th>\n",
       "    </tr>\n",
       "  </thead>\n",
       "  <tbody>\n",
       "    <tr>\n",
       "      <th>0</th>\n",
       "      <td>68407277</td>\n",
       "      <td>NaN</td>\n",
       "      <td>3600.0</td>\n",
       "      <td>3600.0</td>\n",
       "      <td>3600.0</td>\n",
       "      <td>36 months</td>\n",
       "      <td>13.99</td>\n",
       "      <td>123.03</td>\n",
       "      <td>C</td>\n",
       "      <td>C4</td>\n",
       "      <td>...</td>\n",
       "      <td>NaN</td>\n",
       "      <td>NaN</td>\n",
       "      <td>Cash</td>\n",
       "      <td>N</td>\n",
       "      <td>NaN</td>\n",
       "      <td>NaN</td>\n",
       "      <td>NaN</td>\n",
       "      <td>NaN</td>\n",
       "      <td>NaN</td>\n",
       "      <td>NaN</td>\n",
       "    </tr>\n",
       "    <tr>\n",
       "      <th>1</th>\n",
       "      <td>68355089</td>\n",
       "      <td>NaN</td>\n",
       "      <td>24700.0</td>\n",
       "      <td>24700.0</td>\n",
       "      <td>24700.0</td>\n",
       "      <td>36 months</td>\n",
       "      <td>11.99</td>\n",
       "      <td>820.28</td>\n",
       "      <td>C</td>\n",
       "      <td>C1</td>\n",
       "      <td>...</td>\n",
       "      <td>NaN</td>\n",
       "      <td>NaN</td>\n",
       "      <td>Cash</td>\n",
       "      <td>N</td>\n",
       "      <td>NaN</td>\n",
       "      <td>NaN</td>\n",
       "      <td>NaN</td>\n",
       "      <td>NaN</td>\n",
       "      <td>NaN</td>\n",
       "      <td>NaN</td>\n",
       "    </tr>\n",
       "    <tr>\n",
       "      <th>2</th>\n",
       "      <td>68341763</td>\n",
       "      <td>NaN</td>\n",
       "      <td>20000.0</td>\n",
       "      <td>20000.0</td>\n",
       "      <td>20000.0</td>\n",
       "      <td>60 months</td>\n",
       "      <td>10.78</td>\n",
       "      <td>432.66</td>\n",
       "      <td>B</td>\n",
       "      <td>B4</td>\n",
       "      <td>...</td>\n",
       "      <td>NaN</td>\n",
       "      <td>NaN</td>\n",
       "      <td>Cash</td>\n",
       "      <td>N</td>\n",
       "      <td>NaN</td>\n",
       "      <td>NaN</td>\n",
       "      <td>NaN</td>\n",
       "      <td>NaN</td>\n",
       "      <td>NaN</td>\n",
       "      <td>NaN</td>\n",
       "    </tr>\n",
       "    <tr>\n",
       "      <th>3</th>\n",
       "      <td>66310712</td>\n",
       "      <td>NaN</td>\n",
       "      <td>35000.0</td>\n",
       "      <td>35000.0</td>\n",
       "      <td>35000.0</td>\n",
       "      <td>60 months</td>\n",
       "      <td>14.85</td>\n",
       "      <td>829.90</td>\n",
       "      <td>C</td>\n",
       "      <td>C5</td>\n",
       "      <td>...</td>\n",
       "      <td>NaN</td>\n",
       "      <td>NaN</td>\n",
       "      <td>Cash</td>\n",
       "      <td>N</td>\n",
       "      <td>NaN</td>\n",
       "      <td>NaN</td>\n",
       "      <td>NaN</td>\n",
       "      <td>NaN</td>\n",
       "      <td>NaN</td>\n",
       "      <td>NaN</td>\n",
       "    </tr>\n",
       "    <tr>\n",
       "      <th>4</th>\n",
       "      <td>68476807</td>\n",
       "      <td>NaN</td>\n",
       "      <td>10400.0</td>\n",
       "      <td>10400.0</td>\n",
       "      <td>10400.0</td>\n",
       "      <td>60 months</td>\n",
       "      <td>22.45</td>\n",
       "      <td>289.91</td>\n",
       "      <td>F</td>\n",
       "      <td>F1</td>\n",
       "      <td>...</td>\n",
       "      <td>NaN</td>\n",
       "      <td>NaN</td>\n",
       "      <td>Cash</td>\n",
       "      <td>N</td>\n",
       "      <td>NaN</td>\n",
       "      <td>NaN</td>\n",
       "      <td>NaN</td>\n",
       "      <td>NaN</td>\n",
       "      <td>NaN</td>\n",
       "      <td>NaN</td>\n",
       "    </tr>\n",
       "  </tbody>\n",
       "</table>\n",
       "<p>5 rows × 151 columns</p>\n",
       "</div>"
      ],
      "text/plain": [
       "         id  member_id  loan_amnt  funded_amnt  funded_amnt_inv        term  \\\n",
       "0  68407277        NaN     3600.0       3600.0           3600.0   36 months   \n",
       "1  68355089        NaN    24700.0      24700.0          24700.0   36 months   \n",
       "2  68341763        NaN    20000.0      20000.0          20000.0   60 months   \n",
       "3  66310712        NaN    35000.0      35000.0          35000.0   60 months   \n",
       "4  68476807        NaN    10400.0      10400.0          10400.0   60 months   \n",
       "\n",
       "   int_rate  installment grade sub_grade  ... hardship_payoff_balance_amount  \\\n",
       "0     13.99       123.03     C        C4  ...                            NaN   \n",
       "1     11.99       820.28     C        C1  ...                            NaN   \n",
       "2     10.78       432.66     B        B4  ...                            NaN   \n",
       "3     14.85       829.90     C        C5  ...                            NaN   \n",
       "4     22.45       289.91     F        F1  ...                            NaN   \n",
       "\n",
       "  hardship_last_payment_amount disbursement_method  debt_settlement_flag  \\\n",
       "0                          NaN                Cash                     N   \n",
       "1                          NaN                Cash                     N   \n",
       "2                          NaN                Cash                     N   \n",
       "3                          NaN                Cash                     N   \n",
       "4                          NaN                Cash                     N   \n",
       "\n",
       "  debt_settlement_flag_date settlement_status settlement_date  \\\n",
       "0                       NaN               NaN             NaN   \n",
       "1                       NaN               NaN             NaN   \n",
       "2                       NaN               NaN             NaN   \n",
       "3                       NaN               NaN             NaN   \n",
       "4                       NaN               NaN             NaN   \n",
       "\n",
       "  settlement_amount settlement_percentage settlement_term  \n",
       "0               NaN                   NaN             NaN  \n",
       "1               NaN                   NaN             NaN  \n",
       "2               NaN                   NaN             NaN  \n",
       "3               NaN                   NaN             NaN  \n",
       "4               NaN                   NaN             NaN  \n",
       "\n",
       "[5 rows x 151 columns]"
      ]
     },
     "metadata": {},
     "output_type": "display_data"
    },
    {
     "name": "stdout",
     "output_type": "stream",
     "text": [
      "(2260701, 151)\n"
     ]
    }
   ],
   "source": [
    "df = pd.read_csv(r'C:\\Users\\ijazk\\OneDrive\\Desktop\\ML_AI_Portfolio\\credit-risk-predictor-lending-club\\notebook\\data\\lending_club_accepted_loans.csv')\n",
    "display(df.head())\n",
    "print(df.shape)"
   ]
  },
  {
   "cell_type": "code",
   "execution_count": 5,
   "id": "66f2c343",
   "metadata": {},
   "outputs": [
    {
     "data": {
      "application/vnd.microsoft.datawrangler.viewer.v0+json": {
       "columns": [
        {
         "name": "index",
         "rawType": "object",
         "type": "string"
        },
        {
         "name": "Missing Count",
         "rawType": "int64",
         "type": "integer"
        },
        {
         "name": "Percent Missing",
         "rawType": "float64",
         "type": "float"
        }
       ],
       "conversionMethod": "pd.DataFrame",
       "ref": "57c2d49e-9690-4884-86f3-a8661627eed0",
       "rows": [
        [
         "member_id",
         "2260701",
         "100.0"
        ],
        [
         "orig_projected_additional_accrued_interest",
         "2252050",
         "99.61733108447336"
        ],
        [
         "hardship_end_date",
         "2249784",
         "99.51709668815116"
        ],
        [
         "hardship_start_date",
         "2249784",
         "99.51709668815116"
        ],
        [
         "hardship_type",
         "2249784",
         "99.51709668815116"
        ],
        [
         "hardship_reason",
         "2249784",
         "99.51709668815116"
        ],
        [
         "hardship_status",
         "2249784",
         "99.51709668815116"
        ],
        [
         "deferral_term",
         "2249784",
         "99.51709668815116"
        ],
        [
         "hardship_last_payment_amount",
         "2249784",
         "99.51709668815116"
        ],
        [
         "hardship_payoff_balance_amount",
         "2249784",
         "99.51709668815116"
        ],
        [
         "hardship_loan_status",
         "2249784",
         "99.51709668815116"
        ],
        [
         "hardship_dpd",
         "2249784",
         "99.51709668815116"
        ],
        [
         "hardship_length",
         "2249784",
         "99.51709668815116"
        ],
        [
         "payment_plan_start_date",
         "2249784",
         "99.51709668815116"
        ],
        [
         "hardship_amount",
         "2249784",
         "99.51709668815116"
        ],
        [
         "settlement_term",
         "2226455",
         "98.48516013395844"
        ],
        [
         "debt_settlement_flag_date",
         "2226455",
         "98.48516013395844"
        ],
        [
         "settlement_status",
         "2226455",
         "98.48516013395844"
        ],
        [
         "settlement_date",
         "2226455",
         "98.48516013395844"
        ],
        [
         "settlement_amount",
         "2226455",
         "98.48516013395844"
        ],
        [
         "settlement_percentage",
         "2226455",
         "98.48516013395844"
        ],
        [
         "sec_app_mths_since_last_major_derog",
         "2224759",
         "98.41013915595207"
        ],
        [
         "sec_app_revol_util",
         "2154517",
         "95.30304980623266"
        ],
        [
         "revol_bal_joint",
         "2152681",
         "95.22183605881538"
        ],
        [
         "sec_app_mort_acc",
         "2152680",
         "95.22179182474817"
        ],
        [
         "sec_app_fico_range_low",
         "2152680",
         "95.22179182474817"
        ],
        [
         "sec_app_fico_range_high",
         "2152680",
         "95.22179182474817"
        ],
        [
         "sec_app_earliest_cr_line",
         "2152680",
         "95.22179182474817"
        ],
        [
         "sec_app_inq_last_6mths",
         "2152680",
         "95.22179182474817"
        ],
        [
         "sec_app_open_acc",
         "2152680",
         "95.22179182474817"
        ],
        [
         "sec_app_open_act_il",
         "2152680",
         "95.22179182474817"
        ],
        [
         "sec_app_num_rev_accts",
         "2152680",
         "95.22179182474817"
        ],
        [
         "sec_app_chargeoff_within_12_mths",
         "2152680",
         "95.22179182474817"
        ],
        [
         "sec_app_collections_12_mths_ex_med",
         "2152680",
         "95.22179182474817"
        ],
        [
         "verification_status_joint",
         "2144971",
         "94.88079140054346"
        ],
        [
         "dti_joint",
         "2139995",
         "94.66068268205305"
        ],
        [
         "annual_inc_joint",
         "2139991",
         "94.66050574578416"
        ],
        [
         "desc",
         "2134636",
         "94.42363231581709"
        ],
        [
         "mths_since_last_record",
         "1901545",
         "84.11306935326698"
        ],
        [
         "mths_since_recent_bc_dlq",
         "1741000",
         "77.01151103131285"
        ],
        [
         "mths_since_last_major_derog",
         "1679926",
         "74.30995960987322"
        ],
        [
         "mths_since_recent_revol_delinq",
         "1520342",
         "67.25091022651823"
        ],
        [
         "next_pymnt_d",
         "1345343",
         "59.50999269695551"
        ],
        [
         "mths_since_last_delinq",
         "1158535",
         "51.24671506758302"
        ],
        [
         "il_util",
         "1068883",
         "47.281042473109004"
        ],
        [
         "mths_since_rcnt_il",
         "909957",
         "40.25109910598527"
        ],
        [
         "all_util",
         "866381",
         "38.32355539277419"
        ],
        [
         "open_acc_6m",
         "866163",
         "38.313912366120064"
        ],
        [
         "total_cu_tl",
         "866163",
         "38.313912366120064"
        ],
        [
         "inq_last_12m",
         "866163",
         "38.313912366120064"
        ]
       ],
       "shape": {
        "columns": 2,
        "rows": 151
       }
      },
      "text/html": [
       "<div>\n",
       "<style scoped>\n",
       "    .dataframe tbody tr th:only-of-type {\n",
       "        vertical-align: middle;\n",
       "    }\n",
       "\n",
       "    .dataframe tbody tr th {\n",
       "        vertical-align: top;\n",
       "    }\n",
       "\n",
       "    .dataframe thead th {\n",
       "        text-align: right;\n",
       "    }\n",
       "</style>\n",
       "<table border=\"1\" class=\"dataframe\">\n",
       "  <thead>\n",
       "    <tr style=\"text-align: right;\">\n",
       "      <th></th>\n",
       "      <th>Missing Count</th>\n",
       "      <th>Percent Missing</th>\n",
       "    </tr>\n",
       "  </thead>\n",
       "  <tbody>\n",
       "    <tr>\n",
       "      <th>member_id</th>\n",
       "      <td>2260701</td>\n",
       "      <td>100.000000</td>\n",
       "    </tr>\n",
       "    <tr>\n",
       "      <th>orig_projected_additional_accrued_interest</th>\n",
       "      <td>2252050</td>\n",
       "      <td>99.617331</td>\n",
       "    </tr>\n",
       "    <tr>\n",
       "      <th>hardship_end_date</th>\n",
       "      <td>2249784</td>\n",
       "      <td>99.517097</td>\n",
       "    </tr>\n",
       "    <tr>\n",
       "      <th>hardship_start_date</th>\n",
       "      <td>2249784</td>\n",
       "      <td>99.517097</td>\n",
       "    </tr>\n",
       "    <tr>\n",
       "      <th>hardship_type</th>\n",
       "      <td>2249784</td>\n",
       "      <td>99.517097</td>\n",
       "    </tr>\n",
       "    <tr>\n",
       "      <th>...</th>\n",
       "      <td>...</td>\n",
       "      <td>...</td>\n",
       "    </tr>\n",
       "    <tr>\n",
       "      <th>policy_code</th>\n",
       "      <td>33</td>\n",
       "      <td>0.001460</td>\n",
       "    </tr>\n",
       "    <tr>\n",
       "      <th>revol_bal</th>\n",
       "      <td>33</td>\n",
       "      <td>0.001460</td>\n",
       "    </tr>\n",
       "    <tr>\n",
       "      <th>fico_range_high</th>\n",
       "      <td>33</td>\n",
       "      <td>0.001460</td>\n",
       "    </tr>\n",
       "    <tr>\n",
       "      <th>fico_range_low</th>\n",
       "      <td>33</td>\n",
       "      <td>0.001460</td>\n",
       "    </tr>\n",
       "    <tr>\n",
       "      <th>id</th>\n",
       "      <td>0</td>\n",
       "      <td>0.000000</td>\n",
       "    </tr>\n",
       "  </tbody>\n",
       "</table>\n",
       "<p>151 rows × 2 columns</p>\n",
       "</div>"
      ],
      "text/plain": [
       "                                            Missing Count  Percent Missing\n",
       "member_id                                         2260701       100.000000\n",
       "orig_projected_additional_accrued_interest        2252050        99.617331\n",
       "hardship_end_date                                 2249784        99.517097\n",
       "hardship_start_date                               2249784        99.517097\n",
       "hardship_type                                     2249784        99.517097\n",
       "...                                                   ...              ...\n",
       "policy_code                                            33         0.001460\n",
       "revol_bal                                              33         0.001460\n",
       "fico_range_high                                        33         0.001460\n",
       "fico_range_low                                         33         0.001460\n",
       "id                                                      0         0.000000\n",
       "\n",
       "[151 rows x 2 columns]"
      ]
     },
     "metadata": {},
     "output_type": "display_data"
    }
   ],
   "source": [
    "missing_counts = df.isnull().sum().sort_values(ascending=False)\n",
    "percent_missing = (missing_counts / len(df)) * 100\n",
    "display(pd.DataFrame({\"Missing Count\": missing_counts, \"Percent Missing\": percent_missing}))"
   ]
  },
  {
   "cell_type": "code",
   "execution_count": null,
   "id": "463dfe8e",
   "metadata": {},
   "outputs": [
    {
     "name": "stdout",
     "output_type": "stream",
     "text": [
      "Numeric columns: 113\n",
      "Categorical columns: 38\n"
     ]
    }
   ],
   "source": [
    "# Seperate the numeric and categorical columns\n",
    "numeric_cols = df.select_dtypes(include=[np.number]).columns.tolist()\n",
    "categorical_cols = df.select_dtypes(include=['object']).columns.tolist()\n",
    "print(f\"Numeric columns: {len(numeric_cols)}\")\n",
    "print(f\"Categorical columns: {len(categorical_cols)}\")"
   ]
  },
  {
   "cell_type": "code",
   "execution_count": 10,
   "id": "c9a91b93",
   "metadata": {},
   "outputs": [
    {
     "data": {
      "text/plain": [
       "['id',\n",
       " 'term',\n",
       " 'grade',\n",
       " 'sub_grade',\n",
       " 'emp_title',\n",
       " 'emp_length',\n",
       " 'home_ownership',\n",
       " 'verification_status',\n",
       " 'issue_d',\n",
       " 'loan_status',\n",
       " 'pymnt_plan',\n",
       " 'url',\n",
       " 'desc',\n",
       " 'purpose',\n",
       " 'title',\n",
       " 'zip_code',\n",
       " 'addr_state',\n",
       " 'earliest_cr_line',\n",
       " 'initial_list_status',\n",
       " 'last_pymnt_d',\n",
       " 'next_pymnt_d',\n",
       " 'last_credit_pull_d',\n",
       " 'application_type',\n",
       " 'verification_status_joint',\n",
       " 'sec_app_earliest_cr_line',\n",
       " 'hardship_flag',\n",
       " 'hardship_type',\n",
       " 'hardship_reason',\n",
       " 'hardship_status',\n",
       " 'hardship_start_date',\n",
       " 'hardship_end_date',\n",
       " 'payment_plan_start_date',\n",
       " 'hardship_loan_status',\n",
       " 'disbursement_method',\n",
       " 'debt_settlement_flag',\n",
       " 'debt_settlement_flag_date',\n",
       " 'settlement_status',\n",
       " 'settlement_date']"
      ]
     },
     "metadata": {},
     "output_type": "display_data"
    },
    {
     "name": "stdout",
     "output_type": "stream",
     "text": [
      "loan_status\n",
      "Fully Paid                                             0.476298\n",
      "Current                                                0.388521\n",
      "Charged Off                                            0.118796\n",
      "Late (31-120 days)                                     0.009496\n",
      "In Grace Period                                        0.003732\n",
      "Late (16-30 days)                                      0.001924\n",
      "Does not meet the credit policy. Status:Fully Paid     0.000879\n",
      "Does not meet the credit policy. Status:Charged Off    0.000337\n",
      "Default                                                0.000018\n",
      "Name: proportion, dtype: float64\n"
     ]
    }
   ],
   "source": [
    "display(categorical_cols)\n",
    "print(df['loan_status'].value_counts(normalize=True))"
   ]
  }
 ],
 "metadata": {
  "kernelspec": {
   "display_name": "Python 3",
   "language": "python",
   "name": "python3"
  },
  "language_info": {
   "codemirror_mode": {
    "name": "ipython",
    "version": 3
   },
   "file_extension": ".py",
   "mimetype": "text/x-python",
   "name": "python",
   "nbconvert_exporter": "python",
   "pygments_lexer": "ipython3",
   "version": "3.11.11"
  }
 },
 "nbformat": 4,
 "nbformat_minor": 5
}
